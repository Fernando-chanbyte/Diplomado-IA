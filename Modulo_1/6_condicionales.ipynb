{
 "cells": [
  {
   "cell_type": "markdown",
   "metadata": {},
   "source": [
    "# Condicionales"
   ]
  },
  {
   "cell_type": "code",
   "execution_count": 7,
   "metadata": {},
   "outputs": [
    {
     "name": "stdout",
     "output_type": "stream",
     "text": [
      "Aviso por alta temperatura\n"
     ]
    }
   ],
   "source": [
    "temperatura = 40\n",
    "\n",
    "if temperatura > 35:\n",
    "    print('Aviso por alta temperatura')\n"
   ]
  },
  {
   "cell_type": "code",
   "execution_count": 8,
   "metadata": {},
   "outputs": [
    {
     "name": "stdout",
     "output_type": "stream",
     "text": [
      "Aviso por alta temperatura\n"
     ]
    }
   ],
   "source": [
    "if temperatura > 35:\n",
    "    print('Aviso por alta temperatura')\n",
    "else: \n",
    "    print('parámetros normales')"
   ]
  },
  {
   "cell_type": "code",
   "execution_count": 17,
   "metadata": {},
   "outputs": [
    {
     "name": "stdout",
     "output_type": "stream",
     "text": [
      "alerta naranja\n"
     ]
    }
   ],
   "source": [
    "temperatura = 25\n",
    "\n",
    "if temperatura < 20:\n",
    "    if temperatura < 10:\n",
    "        print('alerta azul')\n",
    "    else:\n",
    "        print('alerta verde')\n",
    "else:\n",
    "    if temperatura <= 30:\n",
    "        print('alerta naranja')\n",
    "    else:\n",
    "        print('alerta roja')"
   ]
  },
  {
   "cell_type": "code",
   "execution_count": 21,
   "metadata": {},
   "outputs": [
    {
     "name": "stdout",
     "output_type": "stream",
     "text": [
      "alerta verde\n"
     ]
    }
   ],
   "source": [
    "temperatura = 19\n",
    "\n",
    "if temperatura < 20:\n",
    "    if temperatura < 10:\n",
    "        print('alerta azul')\n",
    "    else:\n",
    "        print('alerta verde')\n",
    "elif temperatura <= 30:\n",
    "    print('alerta naranja')\n",
    "else:\n",
    "    print('alerta roja')"
   ]
  }
 ],
 "metadata": {
  "kernelspec": {
   "display_name": "Diplomado",
   "language": "python",
   "name": "python3"
  },
  "language_info": {
   "codemirror_mode": {
    "name": "ipython",
    "version": 3
   },
   "file_extension": ".py",
   "mimetype": "text/x-python",
   "name": "python",
   "nbconvert_exporter": "python",
   "pygments_lexer": "ipython3",
   "version": "3.10.14"
  }
 },
 "nbformat": 4,
 "nbformat_minor": 2
}
