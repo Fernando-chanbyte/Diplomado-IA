{
 "cells": [
  {
   "cell_type": "markdown",
   "metadata": {},
   "source": [
    "# La Sentencia While"
   ]
  },
  {
   "cell_type": "code",
   "execution_count": 2,
   "metadata": {},
   "outputs": [
    {
     "name": "stdout",
     "output_type": "stream",
     "text": [
      "Hola qué tal\n",
      "Hola qué tal\n",
      "Hola qué tal\n",
      "Hola qué tal\n",
      "Hola qué tal\n",
      "que tenga un buen dia\n"
     ]
    }
   ],
   "source": [
    "stop_word = 's'\n",
    "while stop_word == 's':\n",
    "    print('Hola qué tal')\n",
    "    stop_word = input('quiere otro saludo? [s,n]')\n",
    "print('que tenga un buen dia')"
   ]
  },
  {
   "cell_type": "code",
   "execution_count": null,
   "metadata": {},
   "outputs": [],
   "source": [
    "while True:\n",
    "    print('hola')\n",
    "    break"
   ]
  },
  {
   "cell_type": "code",
   "execution_count": null,
   "metadata": {},
   "outputs": [],
   "source": [
    "stop_word = 's'\n",
    "MAX_REP = 3\n",
    "n_rep = 0\n",
    "while stop_word == 's':\n",
    "    print('Hola qué tal')\n",
    "    stop_word = input('quiere otro saludo? [s,n]')\n",
    "    n_rep = n_rep + 1\n",
    "    if n_rep == MAX_REP:\n",
    "        break\n",
    "\n",
    "print('que tenga un buen dia')"
   ]
  },
  {
   "cell_type": "code",
   "execution_count": null,
   "metadata": {},
   "outputs": [],
   "source": [
    "stop_word = 's'\n",
    "MAX_REP = 3\n",
    "n_rep = 0\n",
    "while stop_word == 's':\n",
    "    print('Hola qué tal')\n",
    "    stop_word = input('quiere otro saludo? [s,n]')\n",
    "    n_rep += 1\n",
    "    if n_rep > MAX_REP:\n",
    "        continue\n",
    "    print('que tenga un buen dia')"
   ]
  },
  {
   "cell_type": "markdown",
   "metadata": {},
   "source": [
    "## Operadores de Asignación"
   ]
  },
  {
   "cell_type": "code",
   "execution_count": null,
   "metadata": {},
   "outputs": [],
   "source": [
    "stop_word = 's'\n",
    "MAX_REP = 3\n",
    "n_rep = 0\n",
    "while stop_word == 's':\n",
    "    print('Hola qué tal')\n",
    "    stop_word = input('quiere otro saludo? [s,n]')\n",
    "    n_rep += 1\n",
    "    if n_rep == MAX_REP:\n",
    "        break\n",
    "\n",
    "print('que tenga un buen dia')"
   ]
  },
  {
   "cell_type": "code",
   "execution_count": null,
   "metadata": {},
   "outputs": [],
   "source": [
    "stop_word = 's'\n",
    "n_rep = 3\n",
    "while stop_word == 's':\n",
    "    print('Hola qué tal')\n",
    "    stop_word = input('quiere otro saludo? [s,n]')\n",
    "    n_rep -= 1\n",
    "    if n_rep == 0:\n",
    "        break\n",
    "\n",
    "print('que tenga un buen dia')"
   ]
  }
 ],
 "metadata": {
  "kernelspec": {
   "display_name": "Diplomado",
   "language": "python",
   "name": "python3"
  },
  "language_info": {
   "codemirror_mode": {
    "name": "ipython",
    "version": 3
   },
   "file_extension": ".py",
   "mimetype": "text/x-python",
   "name": "python",
   "nbconvert_exporter": "python",
   "pygments_lexer": "ipython3",
   "version": "3.10.14"
  }
 },
 "nbformat": 4,
 "nbformat_minor": 2
}
