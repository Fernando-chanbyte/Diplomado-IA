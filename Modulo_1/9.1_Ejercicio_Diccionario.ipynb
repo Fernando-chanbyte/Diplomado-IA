{
 "cells": [
  {
   "cell_type": "markdown",
   "metadata": {},
   "source": [
    "# Ejercicios"
   ]
  },
  {
   "cell_type": "markdown",
   "metadata": {},
   "source": [
    "1. Crea un diccionario con información sobre un libro (título, autor, año de publicación).\n",
    "2. Agrega una nueva clave-valor para el género del libro.\n",
    "3. Modifica el año de publicación del libro.\n",
    "4. Elimina la clave del género."
   ]
  },
  {
   "cell_type": "code",
   "execution_count": 1,
   "metadata": {},
   "outputs": [
    {
     "name": "stdout",
     "output_type": "stream",
     "text": [
      "{'titulo': 'Rebelion en la granja', 'Autor': 'George Orwell', 'año': 1945}\n"
     ]
    }
   ],
   "source": [
    "libro = {\n",
    "    \"titulo\": \"Rebelion en la granja\",\n",
    "    \"Autor\" : \"George Orwell\",\n",
    "    \"año\": 1945\n",
    "}\n",
    "print(libro)"
   ]
  },
  {
   "cell_type": "code",
   "execution_count": 2,
   "metadata": {},
   "outputs": [
    {
     "name": "stdout",
     "output_type": "stream",
     "text": [
      "{'titulo': 'Rebelion en la granja', 'Autor': 'George Orwell', 'año': 1945, 'genero': 'Sátira Política'}\n"
     ]
    }
   ],
   "source": [
    "libro['genero'] = \"Sátira Política\"\n",
    "print(libro)"
   ]
  },
  {
   "cell_type": "code",
   "execution_count": 3,
   "metadata": {},
   "outputs": [
    {
     "name": "stdout",
     "output_type": "stream",
     "text": [
      "{'titulo': 'Rebelion en la granja', 'Autor': 'George Orwell', 'año': 1950, 'genero': 'Sátira Política'}\n"
     ]
    }
   ],
   "source": [
    "libro[\"año\"] =1950\n",
    "print(libro)"
   ]
  },
  {
   "cell_type": "code",
   "execution_count": 4,
   "metadata": {},
   "outputs": [
    {
     "name": "stdout",
     "output_type": "stream",
     "text": [
      "{'titulo': 'Rebelion en la granja', 'Autor': 'George Orwell', 'año': 1950}\n"
     ]
    }
   ],
   "source": [
    "del libro[\"genero\"]\n",
    "print(libro)"
   ]
  }
 ],
 "metadata": {
  "kernelspec": {
   "display_name": "base",
   "language": "python",
   "name": "python3"
  },
  "language_info": {
   "codemirror_mode": {
    "name": "ipython",
    "version": 3
   },
   "file_extension": ".py",
   "mimetype": "text/x-python",
   "name": "python",
   "nbconvert_exporter": "python",
   "pygments_lexer": "ipython3",
   "version": "3.11.7"
  }
 },
 "nbformat": 4,
 "nbformat_minor": 2
}
