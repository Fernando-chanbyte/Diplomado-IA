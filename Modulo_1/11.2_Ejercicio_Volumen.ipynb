{
 "cells": [
  {
   "cell_type": "markdown",
   "metadata": {},
   "source": [
    "## Ejercicio: Calcular el volumen de diversas figuras geométricas\n",
    "\n",
    "### Descripción\n",
    "\n",
    "Escribe una función llamada `calcular_volumen` que tome como argumentos el tipo de figura geométrica y los parámetros necesarios para calcular su volumen. La función debe manejar los siguientes tipos de figuras:\n",
    "\n",
    "![image.png](attachment:image.png)"
   ]
  },
  {
   "cell_type": "code",
   "execution_count": 1,
   "metadata": {},
   "outputs": [
    {
     "name": "stderr",
     "output_type": "stream",
     "text": [
      "\"[image.png]\" no se reconoce como un comando interno o externo,\n",
      "programa o archivo por lotes ejecutable.\n"
     ]
    }
   ],
   "source": [
    "![image.png](attachment:image.png)"
   ]
  },
  {
   "cell_type": "code",
   "execution_count": null,
   "metadata": {},
   "outputs": [],
   "source": [
    "def calcular_volumen(tipo_figura,**kwargs):\n",
    "    if tipo_figura == 'cubo':\n",
    "        print('Volumen de un cubo')\n",
    "        V = kwargs.get('Lado')**3\n",
    "        return V\n",
    "    elif tipo_figura == 'prisma':\n",
    "        print('Volumen de un prisma')\n",
    "        V = (kwargs.get('Lado1') * kwargs['Lado2']) * kwargs['Altura']\n",
    "        return V\n",
    "    elif tipo_figura == 'piramide':\n",
    "        print('Volumen de una piramide')\n",
    "\n",
    "    elif tipo_figura == 'cilindro': \n",
    "        print('volumen de un cilindro')\n",
    "        V = 3.1416 * kwargs.get('r')** 2 * kwargs['Altura']\n",
    "        return V \n",
    "    elif tipo_figura == 'cono':\n",
    "        print('Volumen de un cono')\n",
    "    \n",
    "    elif tipo_figura == 'esfera':\n",
    "        print('volumen de una esfera')\n",
    "\n",
    "    else:\n",
    "        print(f'esta funcion no puede calcular el volumen de {tipo_figura}')"
   ]
  }
 ],
 "metadata": {
  "kernelspec": {
   "display_name": "base",
   "language": "python",
   "name": "python3"
  },
  "language_info": {
   "codemirror_mode": {
    "name": "ipython",
    "version": 3
   },
   "file_extension": ".py",
   "mimetype": "text/x-python",
   "name": "python",
   "nbconvert_exporter": "python",
   "pygments_lexer": "ipython3",
   "version": "3.11.7"
  }
 },
 "nbformat": 4,
 "nbformat_minor": 2
}
